{
 "cells": [
  {
   "cell_type": "markdown",
   "id": "8eee688b",
   "metadata": {},
   "source": [
    "### Task 4 - Proxy Target Variable Engineering"
   ]
  },
  {
   "cell_type": "code",
   "execution_count": 8,
   "id": "7cba872f",
   "metadata": {},
   "outputs": [
    {
     "name": "stdout",
     "output_type": "stream",
     "text": [
      "The autoreload extension is already loaded. To reload it, use:\n",
      "  %reload_ext autoreload\n"
     ]
    }
   ],
   "source": [
    "%load_ext autoreload\n",
    "%autoreload 2"
   ]
  },
  {
   "cell_type": "code",
   "execution_count": 9,
   "id": "4d212c23",
   "metadata": {},
   "outputs": [],
   "source": [
    "%reload_ext autoreload"
   ]
  },
  {
   "cell_type": "code",
   "execution_count": 10,
   "id": "8c9c7fa2",
   "metadata": {},
   "outputs": [],
   "source": [
    "import pandas as pd\n",
    "import matplotlib.pyplot as plt\n",
    "import seaborn as sns\n",
    "import os \n",
    "import sys\n",
    "import warnings\n",
    "warnings.filterwarnings(\"ignore\")\n",
    "import logging\n",
    "# Set up logging\n",
    "logging.basicConfig(level=logging.INFO, format='%(asctime)s - %(levelname)s - %(message)s')\n"
   ]
  },
  {
   "cell_type": "code",
   "execution_count": 13,
   "id": "dc3cc4f9",
   "metadata": {},
   "outputs": [],
   "source": [
    "sys.path.append(os.path.abspath('../src/'))"
   ]
  },
  {
   "cell_type": "code",
   "execution_count": 14,
   "id": "83e6ab9d",
   "metadata": {},
   "outputs": [],
   "source": [
    "from data_preprocessing import data_loader\n",
    "from data_preprocessing_FE_Proxy import process_data_with_proxy_target"
   ]
  },
  {
   "cell_type": "markdown",
   "id": "28906ef1",
   "metadata": {},
   "source": [
    "#### Perform Proxy Target Variable Engineering"
   ]
  },
  {
   "cell_type": "code",
   "execution_count": 15,
   "id": "50519ee4",
   "metadata": {},
   "outputs": [
    {
     "name": "stderr",
     "output_type": "stream",
     "text": [
      "2025-07-06 15:05:58,621 - INFO - CSV file loaded successfully from ../data/raw/data.csv.\n",
      "2025-07-06 15:05:58,626 - INFO - Data loaded successfully\n",
      "2025-07-06 15:05:58,631 - INFO - Input data shape: (95662, 16)\n",
      "2025-07-06 15:05:58,640 - INFO - Input data columns: ['TransactionId', 'BatchId', 'AccountId', 'SubscriptionId', 'CustomerId', 'CurrencyCode', 'CountryCode', 'ProviderId', 'ProductId', 'ProductCategory', 'ChannelId', 'Amount', 'Value', 'TransactionStartTime', 'PricingStrategy', 'FraudResult']\n"
     ]
    }
   ],
   "source": [
    "df = data_loader('../data/raw/data.csv')\n",
    "logging.info(\"Data loaded successfully\")\n",
    "logging.info(f\"Input data shape: {df.shape}\")\n",
    "logging.info(f\"Input data columns: {list(df.columns)}\")"
   ]
  },
  {
   "cell_type": "code",
   "execution_count": 16,
   "id": "b5d9a108",
   "metadata": {},
   "outputs": [
    {
     "name": "stderr",
     "output_type": "stream",
     "text": [
      "2025-07-06 15:06:16,164 - INFO - Starting data processing with proxy target engineering\n",
      "2025-07-06 15:06:16,173 - INFO - Starting data processing\n",
      "2025-07-06 15:06:16,457 - INFO - Creating data processing pipeline\n",
      "2025-07-06 15:06:16,471 - INFO - Extracting time-based features\n",
      "2025-07-06 15:06:18,753 - INFO - Columns after time feature extraction: ['TransactionId', 'BatchId', 'AccountId', 'SubscriptionId', 'CustomerId', 'CurrencyCode', 'CountryCode', 'ProviderId', 'ProductId', 'ProductCategory', 'ChannelId', 'Amount', 'Value', 'TransactionStartTime', 'PricingStrategy', 'TransactionHour', 'TransactionDay', 'TransactionMonth', 'TransactionYear']\n",
      "2025-07-06 15:06:19,005 - INFO - Aggregating features by CustomerId\n",
      "2025-07-06 15:06:19,531 - INFO - Columns after aggregation: ['TransactionId', 'BatchId', 'AccountId', 'SubscriptionId', 'CustomerId', 'CurrencyCode', 'CountryCode', 'ProviderId', 'ProductId', 'ProductCategory', 'ChannelId', 'Amount', 'Value', 'PricingStrategy', 'TransactionHour', 'TransactionDay', 'TransactionMonth', 'TransactionYear', 'Amount_TotalAmount', 'Amount_AvgAmount', 'Amount_TransactionCount', 'Amount_StdAmount']\n",
      "2025-07-06 15:06:19,820 - INFO - Handling outliers\n",
      "2025-07-06 15:06:20,267 - INFO - Columns after outlier handling: ['TransactionId', 'BatchId', 'AccountId', 'SubscriptionId', 'CustomerId', 'CurrencyCode', 'CountryCode', 'ProviderId', 'ProductId', 'ProductCategory', 'ChannelId', 'Amount', 'Value', 'PricingStrategy', 'TransactionHour', 'TransactionDay', 'TransactionMonth', 'TransactionYear', 'Amount_TotalAmount', 'Amount_AvgAmount', 'Amount_TransactionCount', 'Amount_StdAmount']\n",
      "2025-07-06 15:06:25,056 - INFO - Transformed data shape: (95662, 35)\n",
      "2025-07-06 15:06:25,068 - INFO - Expected feature names count: 35\n",
      "2025-07-06 15:06:25,081 - INFO - Feature names: ['Amount', 'Value', 'TransactionHour', 'TransactionDay', 'TransactionMonth', 'TransactionYear', 'Amount_TotalAmount', 'Amount_AvgAmount', 'Amount_TransactionCount', 'Amount_StdAmount', 'ProductCategory_data_bundles', 'ProductCategory_financial_services', 'ProductCategory_movies', 'ProductCategory_other', 'ProductCategory_ticket', 'ProductCategory_transport', 'ProductCategory_tv', 'ProductCategory_utility_bill', 'ChannelId_ChannelId_2', 'ChannelId_ChannelId_3', 'ChannelId_ChannelId_5', 'ProviderId_ProviderId_2', 'ProviderId_ProviderId_3', 'ProviderId_ProviderId_4', 'ProviderId_ProviderId_5', 'ProviderId_ProviderId_6', 'TransactionId', 'BatchId', 'AccountId', 'SubscriptionId', 'CustomerId', 'CurrencyCode', 'CountryCode', 'ProductId', 'PricingStrategy']\n",
      "2025-07-06 15:06:25,115 - INFO - Data processing complete. Output shape: (95662, 35)\n",
      "2025-07-06 15:06:25,683 - INFO - Creating RFM pipeline\n",
      "2025-07-06 15:06:28,766 - INFO - Snapshot date set to 2019-02-14 10:01:28+00:00\n",
      "2025-07-06 15:06:28,775 - INFO - Calculating RFM metrics\n",
      "2025-07-06 15:06:32,945 - INFO - RFM DataFrame shape: (3742, 4)\n",
      "2025-07-06 15:06:33,018 - INFO - RFM DataFrame preview:\n",
      "        CustomerId  Recency  Frequency  Monetary\n",
      "0     CustomerId_1       84          1  -10000.0\n",
      "1    CustomerId_10       84          1  -10000.0\n",
      "2  CustomerId_1001       90          5   20000.0\n",
      "3  CustomerId_1002       26         11    4225.0\n",
      "4  CustomerId_1003       12          6   20000.0\n",
      "2025-07-06 15:06:33,240 - INFO - Fitting K-Means clustering\n",
      "2025-07-06 15:06:43,015 - INFO - Assigning cluster labels\n",
      "2025-07-06 15:06:43,045 - INFO - Identifying high-risk cluster\n",
      "2025-07-06 15:06:43,272 - INFO - Cluster statistics:\n",
      "           Recency    Frequency      Monetary\n",
      "Cluster                                      \n",
      "0        61.859846     7.726699  8.172379e+04\n",
      "1        29.000000  4091.000000 -1.049000e+08\n",
      "2        12.716076    34.807692  2.726546e+05\n",
      "2025-07-06 15:06:43,308 - WARNING - No cluster meets all criteria. Selected Cluster 1 with lowest Frequency + Monetary\n",
      "2025-07-06 15:06:43,319 - INFO - Assigning high-risk labels\n",
      "2025-07-06 15:06:44,757 - INFO - Proxy target variable added. Final shape: (95662, 36)\n"
     ]
    }
   ],
   "source": [
    "# Define columns\n",
    "numerical_columns = ['Amount', 'Value']\n",
    "categorical_columns = ['ProductCategory', 'ChannelId', 'ProviderId']\n",
    "# Adjust if necessary (e.g., 'customer_id')\n",
    "customer_id_col = 'CustomerId'\n",
    "\n",
    "X_processed, y, y_proxy, feature_names = process_data_with_proxy_target(\n",
    "    df,\n",
    "    numerical_columns=numerical_columns,\n",
    "    categorical_columns=categorical_columns,\n",
    "    customer_id_col=customer_id_col\n",
    "    )"
   ]
  },
  {
   "cell_type": "code",
   "execution_count": 17,
   "id": "09526d41",
   "metadata": {},
   "outputs": [
    {
     "name": "stderr",
     "output_type": "stream",
     "text": [
      "2025-07-06 15:07:36,622 - INFO - Processed data and targets saved\n"
     ]
    }
   ],
   "source": [
    "# Save processed data and targets\n",
    "X_processed.to_csv('processed_data_with_proxy.csv', index=False)\n",
    "y.to_csv('target_fraud.csv', index=False)\n",
    "y_proxy.to_csv('target_proxy.csv', index=False)\n",
    "logging.info(\"Processed data and targets saved\")"
   ]
  },
  {
   "cell_type": "code",
   "execution_count": 18,
   "id": "6d1fe53b",
   "metadata": {},
   "outputs": [
    {
     "name": "stdout",
     "output_type": "stream",
     "text": [
      "Feature names: ['Amount', 'Value', 'TransactionHour', 'TransactionDay', 'TransactionMonth', 'TransactionYear', 'Amount_TotalAmount', 'Amount_AvgAmount', 'Amount_TransactionCount', 'Amount_StdAmount', 'ProductCategory_data_bundles', 'ProductCategory_financial_services', 'ProductCategory_movies', 'ProductCategory_other', 'ProductCategory_ticket', 'ProductCategory_transport', 'ProductCategory_tv', 'ProductCategory_utility_bill', 'ChannelId_ChannelId_2', 'ChannelId_ChannelId_3', 'ChannelId_ChannelId_5', 'ProviderId_ProviderId_2', 'ProviderId_ProviderId_3', 'ProviderId_ProviderId_4', 'ProviderId_ProviderId_5', 'ProviderId_ProviderId_6', 'TransactionId', 'BatchId', 'AccountId', 'SubscriptionId', 'CustomerId', 'CurrencyCode', 'CountryCode', 'ProductId', 'PricingStrategy', 'is_high_risk']\n",
      "Processed data preview:\n",
      "     Amount     Value TransactionHour TransactionDay TransactionMonth  \\\n",
      "0 -0.139857 -0.072291        -2.15553      -0.100739         0.848684   \n",
      "1 -0.457536 -0.080251        -2.15553      -0.100739         0.848684   \n",
      "2 -0.295582 -0.076352        -2.15553      -0.100739         0.848684   \n",
      "3    1.7522  0.096648       -1.949214      -0.100739         0.848684   \n",
      "4  -0.65188 -0.075183       -1.949214      -0.100739         0.848684   \n",
      "\n",
      "  TransactionYear Amount_TotalAmount Amount_AvgAmount Amount_TransactionCount  \\\n",
      "0       -0.994246          -0.514949        -0.754644               -0.311831   \n",
      "1       -0.994246          -0.514949        -0.754644               -0.311831   \n",
      "2       -0.994246          -0.688512         -0.92267               -0.444993   \n",
      "3       -0.994246          -0.325636          1.26598                -0.40402   \n",
      "4       -0.994246          -0.325636          1.26598                -0.40402   \n",
      "\n",
      "  Amount_StdAmount  ...        TransactionId         BatchId       AccountId  \\\n",
      "0        -0.763824  ...  TransactionId_76871   BatchId_36123  AccountId_3957   \n",
      "1        -0.763824  ...  TransactionId_73770   BatchId_15642  AccountId_4841   \n",
      "2        -1.270194  ...  TransactionId_26203   BatchId_53941  AccountId_4229   \n",
      "3         1.587514  ...    TransactionId_380  BatchId_102363   AccountId_648   \n",
      "4         1.587514  ...  TransactionId_28195   BatchId_38780  AccountId_4841   \n",
      "\n",
      "        SubscriptionId       CustomerId CurrencyCode CountryCode  \\\n",
      "0   SubscriptionId_887  CustomerId_4406          UGX         256   \n",
      "1  SubscriptionId_3829  CustomerId_4406          UGX         256   \n",
      "2   SubscriptionId_222  CustomerId_4683          UGX         256   \n",
      "3  SubscriptionId_2185   CustomerId_988          UGX         256   \n",
      "4  SubscriptionId_3829   CustomerId_988          UGX         256   \n",
      "\n",
      "      ProductId PricingStrategy is_high_risk  \n",
      "0  ProductId_10               2            0  \n",
      "1   ProductId_6               2            0  \n",
      "2   ProductId_1               2            0  \n",
      "3  ProductId_21               2            0  \n",
      "4   ProductId_6               2            0  \n",
      "\n",
      "[5 rows x 36 columns]\n",
      "Proxy target distribution:\n",
      "is_high_risk\n",
      "0    91571\n",
      "1     4091\n",
      "Name: count, dtype: int64\n"
     ]
    }
   ],
   "source": [
    "print(\"Feature names:\", feature_names)\n",
    "print(\"Processed data preview:\")\n",
    "print(X_processed.head())\n",
    "print(\"Proxy target distribution:\")\n",
    "print(y_proxy.value_counts())"
   ]
  }
 ],
 "metadata": {
  "kernelspec": {
   "display_name": ".autoenv",
   "language": "python",
   "name": "python3"
  },
  "language_info": {
   "codemirror_mode": {
    "name": "ipython",
    "version": 3
   },
   "file_extension": ".py",
   "mimetype": "text/x-python",
   "name": "python",
   "nbconvert_exporter": "python",
   "pygments_lexer": "ipython3",
   "version": "3.12.6"
  }
 },
 "nbformat": 4,
 "nbformat_minor": 5
}
