{
 "cells": [
  {
   "cell_type": "markdown",
   "id": "e62bf946",
   "metadata": {},
   "source": [
    "## Task 3 - Feature Engineering"
   ]
  },
  {
   "cell_type": "markdown",
   "id": "29f15b50",
   "metadata": {},
   "source": [
    "### Some of the Recommendations made from Task 2 for Feature Engineering:\n",
    " - Encode categorical variables (ProductCategory, ChannelId, ProviderId) using one-hot or label encoding.\n",
    " - Create time-based features (hour, day, month) from TransactionStartTime to capture temporal patterns.\n",
    " - Handle negative Amounts separately (e.g., split into debit/credit features).\n",
    " - Apply log-transformation to Amount/Value to address skewness.\n",
    " - Use robust scaling for outliers or cap extreme values.\n",
    "\n",
    "**Based on the insight from task-2 EDA, the Feature Engineering is done as follows**"
   ]
  },
  {
   "cell_type": "code",
   "execution_count": 1,
   "id": "ea68e68f",
   "metadata": {},
   "outputs": [],
   "source": [
    "%load_ext autoreload\n",
    "%autoreload 2"
   ]
  },
  {
   "cell_type": "code",
   "execution_count": 2,
   "id": "1f970b53",
   "metadata": {},
   "outputs": [],
   "source": [
    "%reload_ext autoreload"
   ]
  },
  {
   "cell_type": "code",
   "execution_count": 3,
   "id": "45022995",
   "metadata": {},
   "outputs": [],
   "source": [
    "import pandas as pd\n",
    "import matplotlib.pyplot as plt\n",
    "import seaborn as sns\n",
    "import os \n",
    "import sys\n",
    "import warnings\n",
    "warnings.filterwarnings(\"ignore\")\n",
    "import logging\n",
    "# Set up logging\n",
    "logging.basicConfig(level=logging.INFO, format='%(asctime)s - %(levelname)s - %(message)s')\n"
   ]
  },
  {
   "cell_type": "code",
   "execution_count": 4,
   "id": "bf8b4e1e",
   "metadata": {},
   "outputs": [],
   "source": [
    "sys.path.append(os.path.abspath('../src/'))"
   ]
  },
  {
   "cell_type": "code",
   "execution_count": 5,
   "id": "7b83a9f8",
   "metadata": {},
   "outputs": [],
   "source": [
    "from data_preprocessing import data_loader\n",
    "from data_preprocessing_FE import process_data"
   ]
  },
  {
   "cell_type": "markdown",
   "id": "02fcd834",
   "metadata": {},
   "source": [
    "### Perform Feature Engineering"
   ]
  },
  {
   "cell_type": "code",
   "execution_count": 6,
   "id": "1022bbc1",
   "metadata": {},
   "outputs": [
    {
     "name": "stderr",
     "output_type": "stream",
     "text": [
      "2025-07-06 14:41:03,113 - INFO - CSV file loaded successfully from ../data/raw/data.csv.\n",
      "2025-07-06 14:41:03,121 - INFO - Data loaded successfully\n"
     ]
    }
   ],
   "source": [
    "# Load data\n",
    "df = data_loader('../data/raw/data.csv')\n",
    "logging.info(\"Data loaded successfully\")"
   ]
  },
  {
   "cell_type": "code",
   "execution_count": 7,
   "id": "06b09658",
   "metadata": {},
   "outputs": [
    {
     "data": {
      "text/plain": [
       "Index(['TransactionId', 'BatchId', 'AccountId', 'SubscriptionId', 'CustomerId',\n",
       "       'CurrencyCode', 'CountryCode', 'ProviderId', 'ProductId',\n",
       "       'ProductCategory', 'ChannelId', 'Amount', 'Value',\n",
       "       'TransactionStartTime', 'PricingStrategy', 'FraudResult'],\n",
       "      dtype='object')"
      ]
     },
     "execution_count": 7,
     "metadata": {},
     "output_type": "execute_result"
    }
   ],
   "source": [
    "df.columns"
   ]
  },
  {
   "cell_type": "code",
   "execution_count": 8,
   "id": "adcbd284",
   "metadata": {},
   "outputs": [
    {
     "name": "stderr",
     "output_type": "stream",
     "text": [
      "2025-07-06 14:41:24,234 - INFO - Starting data processing\n",
      "2025-07-06 14:41:24,606 - INFO - Creating data processing pipeline\n",
      "2025-07-06 14:41:24,619 - INFO - Extracting time-based features\n",
      "2025-07-06 14:41:31,982 - INFO - Columns after time feature extraction: ['TransactionId', 'BatchId', 'AccountId', 'SubscriptionId', 'CustomerId', 'CurrencyCode', 'CountryCode', 'ProviderId', 'ProductId', 'ProductCategory', 'ChannelId', 'Amount', 'Value', 'TransactionStartTime', 'PricingStrategy', 'TransactionHour', 'TransactionDay', 'TransactionMonth', 'TransactionYear']\n",
      "2025-07-06 14:41:32,311 - INFO - Aggregating features by CustomerId\n",
      "2025-07-06 14:41:32,911 - INFO - Columns after aggregation: ['TransactionId', 'BatchId', 'AccountId', 'SubscriptionId', 'CustomerId', 'CurrencyCode', 'CountryCode', 'ProviderId', 'ProductId', 'ProductCategory', 'ChannelId', 'Amount', 'Value', 'PricingStrategy', 'TransactionHour', 'TransactionDay', 'TransactionMonth', 'TransactionYear', 'Amount_TotalAmount', 'Amount_AvgAmount', 'Amount_TransactionCount', 'Amount_StdAmount']\n",
      "2025-07-06 14:41:33,266 - INFO - Handling outliers\n",
      "2025-07-06 14:41:33,589 - INFO - Columns after outlier handling: ['TransactionId', 'BatchId', 'AccountId', 'SubscriptionId', 'CustomerId', 'CurrencyCode', 'CountryCode', 'ProviderId', 'ProductId', 'ProductCategory', 'ChannelId', 'Amount', 'Value', 'PricingStrategy', 'TransactionHour', 'TransactionDay', 'TransactionMonth', 'TransactionYear', 'Amount_TotalAmount', 'Amount_AvgAmount', 'Amount_TransactionCount', 'Amount_StdAmount']\n",
      "2025-07-06 14:41:37,466 - INFO - Transformed data shape: (95662, 35)\n",
      "2025-07-06 14:41:37,472 - INFO - Expected feature names count: 35\n",
      "2025-07-06 14:41:37,482 - INFO - Feature names: ['Amount', 'Value', 'TransactionHour', 'TransactionDay', 'TransactionMonth', 'TransactionYear', 'Amount_TotalAmount', 'Amount_AvgAmount', 'Amount_TransactionCount', 'Amount_StdAmount', 'ProductCategory_data_bundles', 'ProductCategory_financial_services', 'ProductCategory_movies', 'ProductCategory_other', 'ProductCategory_ticket', 'ProductCategory_transport', 'ProductCategory_tv', 'ProductCategory_utility_bill', 'ChannelId_ChannelId_2', 'ChannelId_ChannelId_3', 'ChannelId_ChannelId_5', 'ProviderId_ProviderId_2', 'ProviderId_ProviderId_3', 'ProviderId_ProviderId_4', 'ProviderId_ProviderId_5', 'ProviderId_ProviderId_6', 'TransactionId', 'BatchId', 'AccountId', 'SubscriptionId', 'CustomerId', 'CurrencyCode', 'CountryCode', 'ProductId', 'PricingStrategy']\n",
      "2025-07-06 14:41:37,729 - INFO - Data processing complete. Output shape: (95662, 35)\n"
     ]
    }
   ],
   "source": [
    "# Define columns\n",
    "numerical_columns = ['Amount', 'Value']\n",
    "categorical_columns = ['ProductCategory', 'ChannelId', 'ProviderId']\n",
    "customer_id_col = 'CustomerId'\n",
    "time_column = 'TransactionStartTime'\n",
    "        \n",
    "# Process data\n",
    "X_processed, y, feature_names = process_data(\n",
    "    df,\n",
    "    target_column='FraudResult',\n",
    "    numerical_columns=numerical_columns,\n",
    "    categorical_columns=categorical_columns,\n",
    "    customer_id_col=customer_id_col,\n",
    "    time_column=time_column\n",
    ")"
   ]
  },
  {
   "cell_type": "code",
   "execution_count": 9,
   "id": "ecc3c25a",
   "metadata": {},
   "outputs": [
    {
     "name": "stderr",
     "output_type": "stream",
     "text": [
      "2025-07-06 14:42:37,774 - INFO - Processed data and target saved\n"
     ]
    }
   ],
   "source": [
    "# Save processed data\n",
    "X_processed.to_csv('../data/processed/processed_data.csv', index=False)\n",
    "y.to_csv('../data/processed/target.csv', index=False)\n",
    "logging.info(\"Processed data and target saved\")"
   ]
  },
  {
   "cell_type": "code",
   "execution_count": 10,
   "id": "531db553",
   "metadata": {},
   "outputs": [
    {
     "name": "stdout",
     "output_type": "stream",
     "text": [
      "Feature names: ['Amount', 'Value', 'TransactionHour', 'TransactionDay', 'TransactionMonth', 'TransactionYear', 'Amount_TotalAmount', 'Amount_AvgAmount', 'Amount_TransactionCount', 'Amount_StdAmount', 'ProductCategory_data_bundles', 'ProductCategory_financial_services', 'ProductCategory_movies', 'ProductCategory_other', 'ProductCategory_ticket', 'ProductCategory_transport', 'ProductCategory_tv', 'ProductCategory_utility_bill', 'ChannelId_ChannelId_2', 'ChannelId_ChannelId_3', 'ChannelId_ChannelId_5', 'ProviderId_ProviderId_2', 'ProviderId_ProviderId_3', 'ProviderId_ProviderId_4', 'ProviderId_ProviderId_5', 'ProviderId_ProviderId_6', 'TransactionId', 'BatchId', 'AccountId', 'SubscriptionId', 'CustomerId', 'CurrencyCode', 'CountryCode', 'ProductId', 'PricingStrategy']\n",
      "Processed data preview:\n"
     ]
    },
    {
     "data": {
      "text/html": [
       "<div>\n",
       "<style scoped>\n",
       "    .dataframe tbody tr th:only-of-type {\n",
       "        vertical-align: middle;\n",
       "    }\n",
       "\n",
       "    .dataframe tbody tr th {\n",
       "        vertical-align: top;\n",
       "    }\n",
       "\n",
       "    .dataframe thead th {\n",
       "        text-align: right;\n",
       "    }\n",
       "</style>\n",
       "<table border=\"1\" class=\"dataframe\">\n",
       "  <thead>\n",
       "    <tr style=\"text-align: right;\">\n",
       "      <th></th>\n",
       "      <th>Amount</th>\n",
       "      <th>Value</th>\n",
       "      <th>TransactionHour</th>\n",
       "      <th>TransactionDay</th>\n",
       "      <th>TransactionMonth</th>\n",
       "      <th>TransactionYear</th>\n",
       "      <th>Amount_TotalAmount</th>\n",
       "      <th>Amount_AvgAmount</th>\n",
       "      <th>Amount_TransactionCount</th>\n",
       "      <th>Amount_StdAmount</th>\n",
       "      <th>...</th>\n",
       "      <th>ProviderId_ProviderId_6</th>\n",
       "      <th>TransactionId</th>\n",
       "      <th>BatchId</th>\n",
       "      <th>AccountId</th>\n",
       "      <th>SubscriptionId</th>\n",
       "      <th>CustomerId</th>\n",
       "      <th>CurrencyCode</th>\n",
       "      <th>CountryCode</th>\n",
       "      <th>ProductId</th>\n",
       "      <th>PricingStrategy</th>\n",
       "    </tr>\n",
       "  </thead>\n",
       "  <tbody>\n",
       "    <tr>\n",
       "      <th>0</th>\n",
       "      <td>-0.139857</td>\n",
       "      <td>-0.072291</td>\n",
       "      <td>-2.15553</td>\n",
       "      <td>-0.100739</td>\n",
       "      <td>0.848684</td>\n",
       "      <td>-0.994246</td>\n",
       "      <td>-0.514949</td>\n",
       "      <td>-0.754644</td>\n",
       "      <td>-0.311831</td>\n",
       "      <td>-0.763824</td>\n",
       "      <td>...</td>\n",
       "      <td>1.0</td>\n",
       "      <td>TransactionId_76871</td>\n",
       "      <td>BatchId_36123</td>\n",
       "      <td>AccountId_3957</td>\n",
       "      <td>SubscriptionId_887</td>\n",
       "      <td>CustomerId_4406</td>\n",
       "      <td>UGX</td>\n",
       "      <td>256</td>\n",
       "      <td>ProductId_10</td>\n",
       "      <td>2</td>\n",
       "    </tr>\n",
       "    <tr>\n",
       "      <th>1</th>\n",
       "      <td>-0.457536</td>\n",
       "      <td>-0.080251</td>\n",
       "      <td>-2.15553</td>\n",
       "      <td>-0.100739</td>\n",
       "      <td>0.848684</td>\n",
       "      <td>-0.994246</td>\n",
       "      <td>-0.514949</td>\n",
       "      <td>-0.754644</td>\n",
       "      <td>-0.311831</td>\n",
       "      <td>-0.763824</td>\n",
       "      <td>...</td>\n",
       "      <td>0.0</td>\n",
       "      <td>TransactionId_73770</td>\n",
       "      <td>BatchId_15642</td>\n",
       "      <td>AccountId_4841</td>\n",
       "      <td>SubscriptionId_3829</td>\n",
       "      <td>CustomerId_4406</td>\n",
       "      <td>UGX</td>\n",
       "      <td>256</td>\n",
       "      <td>ProductId_6</td>\n",
       "      <td>2</td>\n",
       "    </tr>\n",
       "    <tr>\n",
       "      <th>2</th>\n",
       "      <td>-0.295582</td>\n",
       "      <td>-0.076352</td>\n",
       "      <td>-2.15553</td>\n",
       "      <td>-0.100739</td>\n",
       "      <td>0.848684</td>\n",
       "      <td>-0.994246</td>\n",
       "      <td>-0.688512</td>\n",
       "      <td>-0.92267</td>\n",
       "      <td>-0.444993</td>\n",
       "      <td>-1.270194</td>\n",
       "      <td>...</td>\n",
       "      <td>1.0</td>\n",
       "      <td>TransactionId_26203</td>\n",
       "      <td>BatchId_53941</td>\n",
       "      <td>AccountId_4229</td>\n",
       "      <td>SubscriptionId_222</td>\n",
       "      <td>CustomerId_4683</td>\n",
       "      <td>UGX</td>\n",
       "      <td>256</td>\n",
       "      <td>ProductId_1</td>\n",
       "      <td>2</td>\n",
       "    </tr>\n",
       "    <tr>\n",
       "      <th>3</th>\n",
       "      <td>1.7522</td>\n",
       "      <td>0.096648</td>\n",
       "      <td>-1.949214</td>\n",
       "      <td>-0.100739</td>\n",
       "      <td>0.848684</td>\n",
       "      <td>-0.994246</td>\n",
       "      <td>-0.325636</td>\n",
       "      <td>1.26598</td>\n",
       "      <td>-0.40402</td>\n",
       "      <td>1.587514</td>\n",
       "      <td>...</td>\n",
       "      <td>0.0</td>\n",
       "      <td>TransactionId_380</td>\n",
       "      <td>BatchId_102363</td>\n",
       "      <td>AccountId_648</td>\n",
       "      <td>SubscriptionId_2185</td>\n",
       "      <td>CustomerId_988</td>\n",
       "      <td>UGX</td>\n",
       "      <td>256</td>\n",
       "      <td>ProductId_21</td>\n",
       "      <td>2</td>\n",
       "    </tr>\n",
       "    <tr>\n",
       "      <th>4</th>\n",
       "      <td>-0.65188</td>\n",
       "      <td>-0.075183</td>\n",
       "      <td>-1.949214</td>\n",
       "      <td>-0.100739</td>\n",
       "      <td>0.848684</td>\n",
       "      <td>-0.994246</td>\n",
       "      <td>-0.325636</td>\n",
       "      <td>1.26598</td>\n",
       "      <td>-0.40402</td>\n",
       "      <td>1.587514</td>\n",
       "      <td>...</td>\n",
       "      <td>0.0</td>\n",
       "      <td>TransactionId_28195</td>\n",
       "      <td>BatchId_38780</td>\n",
       "      <td>AccountId_4841</td>\n",
       "      <td>SubscriptionId_3829</td>\n",
       "      <td>CustomerId_988</td>\n",
       "      <td>UGX</td>\n",
       "      <td>256</td>\n",
       "      <td>ProductId_6</td>\n",
       "      <td>2</td>\n",
       "    </tr>\n",
       "  </tbody>\n",
       "</table>\n",
       "<p>5 rows × 35 columns</p>\n",
       "</div>"
      ],
      "text/plain": [
       "     Amount     Value TransactionHour TransactionDay TransactionMonth  \\\n",
       "0 -0.139857 -0.072291        -2.15553      -0.100739         0.848684   \n",
       "1 -0.457536 -0.080251        -2.15553      -0.100739         0.848684   \n",
       "2 -0.295582 -0.076352        -2.15553      -0.100739         0.848684   \n",
       "3    1.7522  0.096648       -1.949214      -0.100739         0.848684   \n",
       "4  -0.65188 -0.075183       -1.949214      -0.100739         0.848684   \n",
       "\n",
       "  TransactionYear Amount_TotalAmount Amount_AvgAmount Amount_TransactionCount  \\\n",
       "0       -0.994246          -0.514949        -0.754644               -0.311831   \n",
       "1       -0.994246          -0.514949        -0.754644               -0.311831   \n",
       "2       -0.994246          -0.688512         -0.92267               -0.444993   \n",
       "3       -0.994246          -0.325636          1.26598                -0.40402   \n",
       "4       -0.994246          -0.325636          1.26598                -0.40402   \n",
       "\n",
       "  Amount_StdAmount  ... ProviderId_ProviderId_6        TransactionId  \\\n",
       "0        -0.763824  ...                     1.0  TransactionId_76871   \n",
       "1        -0.763824  ...                     0.0  TransactionId_73770   \n",
       "2        -1.270194  ...                     1.0  TransactionId_26203   \n",
       "3         1.587514  ...                     0.0    TransactionId_380   \n",
       "4         1.587514  ...                     0.0  TransactionId_28195   \n",
       "\n",
       "          BatchId       AccountId       SubscriptionId       CustomerId  \\\n",
       "0   BatchId_36123  AccountId_3957   SubscriptionId_887  CustomerId_4406   \n",
       "1   BatchId_15642  AccountId_4841  SubscriptionId_3829  CustomerId_4406   \n",
       "2   BatchId_53941  AccountId_4229   SubscriptionId_222  CustomerId_4683   \n",
       "3  BatchId_102363   AccountId_648  SubscriptionId_2185   CustomerId_988   \n",
       "4   BatchId_38780  AccountId_4841  SubscriptionId_3829   CustomerId_988   \n",
       "\n",
       "  CurrencyCode CountryCode     ProductId PricingStrategy  \n",
       "0          UGX         256  ProductId_10               2  \n",
       "1          UGX         256   ProductId_6               2  \n",
       "2          UGX         256   ProductId_1               2  \n",
       "3          UGX         256  ProductId_21               2  \n",
       "4          UGX         256   ProductId_6               2  \n",
       "\n",
       "[5 rows x 35 columns]"
      ]
     },
     "execution_count": 10,
     "metadata": {},
     "output_type": "execute_result"
    }
   ],
   "source": [
    "print(\"Feature names:\", feature_names)\n",
    "print(\"Processed data preview:\")\n",
    "X_processed.head()"
   ]
  }
 ],
 "metadata": {
  "kernelspec": {
   "display_name": ".autoenv",
   "language": "python",
   "name": "python3"
  },
  "language_info": {
   "codemirror_mode": {
    "name": "ipython",
    "version": 3
   },
   "file_extension": ".py",
   "mimetype": "text/x-python",
   "name": "python",
   "nbconvert_exporter": "python",
   "pygments_lexer": "ipython3",
   "version": "3.12.6"
  }
 },
 "nbformat": 4,
 "nbformat_minor": 5
}
